{
 "cells": [
  {
   "cell_type": "code",
   "execution_count": 1,
   "metadata": {},
   "outputs": [],
   "source": [
    "import pandas as pd\n",
    "import numpy as np\n",
    "import string"
   ]
  },
  {
   "cell_type": "code",
   "execution_count": 2,
   "metadata": {},
   "outputs": [
    {
     "data": {
      "text/html": [
       "<script type=\"text/javascript\">window.PlotlyConfig = {MathJaxConfig: 'local'};</script><script type=\"text/javascript\">if (window.MathJax) {MathJax.Hub.Config({SVG: {font: \"STIX-Web\"}});}</script><script>requirejs.config({paths: { 'plotly': ['https://cdn.plot.ly/plotly-latest.min']},});if(!window._Plotly) {require(['plotly'],function(plotly) {window._Plotly=plotly;});}</script>"
      ],
      "text/vnd.plotly.v1+html": [
       "<script type=\"text/javascript\">window.PlotlyConfig = {MathJaxConfig: 'local'};</script><script type=\"text/javascript\">if (window.MathJax) {MathJax.Hub.Config({SVG: {font: \"STIX-Web\"}});}</script><script>requirejs.config({paths: { 'plotly': ['https://cdn.plot.ly/plotly-latest.min']},});if(!window._Plotly) {require(['plotly'],function(plotly) {window._Plotly=plotly;});}</script>"
      ]
     },
     "metadata": {},
     "output_type": "display_data"
    }
   ],
   "source": [
    "# visualization\n",
    "\n",
    "import seaborn as sns\n",
    "import matplotlib.pyplot as plt\n",
    "%matplotlib inline\n",
    "\n",
    "import plotly.tools as tls\n",
    "import plotly.offline as py\n",
    "from plotly.offline import init_notebook_mode, iplot, plot\n",
    "import plotly.graph_objs as go\n",
    "init_notebook_mode(connected=True)\n",
    "import warnings\n",
    "from collections import Counter"
   ]
  },
  {
   "cell_type": "code",
   "execution_count": 3,
   "metadata": {},
   "outputs": [
    {
     "name": "stderr",
     "output_type": "stream",
     "text": [
      "C:\\ProgramData\\Anaconda3\\lib\\site-packages\\sklearn\\cross_validation.py:41: DeprecationWarning:\n",
      "\n",
      "This module was deprecated in version 0.18 in favor of the model_selection module into which all the refactored classes and functions are moved. Also note that the interface of the new CV iterators are different from that of this module. This module will be removed in 0.20.\n",
      "\n"
     ]
    }
   ],
   "source": [
    "from sklearn.cross_validation import train_test_split\n"
   ]
  },
  {
   "cell_type": "code",
   "execution_count": 4,
   "metadata": {},
   "outputs": [],
   "source": [
    "# machine learning\n",
    "from sklearn.linear_model import LogisticRegression\n",
    "from sklearn.svm import SVC, LinearSVC\n",
    "from sklearn.ensemble import RandomForestClassifier\n",
    "from sklearn.neighbors import KNeighborsClassifier\n",
    "from sklearn.naive_bayes import GaussianNB\n",
    "from sklearn.linear_model import SGDClassifier\n",
    "from sklearn.tree import DecisionTreeClassifier\n",
    "from sklearn.ensemble import BaggingClassifier\n",
    "from sklearn.neural_network import MLPClassifier\n",
    "from sklearn.ensemble import AdaBoostClassifier\n",
    "from sklearn.ensemble import GradientBoostingClassifier\n",
    "\n",
    "import lightgbm as lgb\n",
    "from lightgbm import LGBMClassifier"
   ]
  },
  {
   "cell_type": "code",
   "execution_count": 5,
   "metadata": {},
   "outputs": [],
   "source": [
    "# Load the dataset\n",
    "df = pd.read_csv(\"data.csv\")"
   ]
  },
  {
   "cell_type": "code",
   "execution_count": 6,
   "metadata": {},
   "outputs": [
    {
     "name": "stdout",
     "output_type": "stream",
     "text": [
      "<bound method DataFrame.info of                 ID                                               name  \\\n",
      "0       1000002330                    The Songs of Adelaide & Abullah   \n",
      "1       1000003930      Greeting From Earth: ZGAC Arts Capsule For ET   \n",
      "2       1000004038                                     Where is Hank?   \n",
      "3       1000007540  ToshiCapital Rekordz Needs Help to Complete Album   \n",
      "4       1000011046  Community Film Project: The Art of Neighborhoo...   \n",
      "5       1000014025                               Monarch Espresso Bar   \n",
      "6       1000023410  Support Solar Roasted Coffee & Green Energy!  ...   \n",
      "7       1000030581  Chaser Strips. Our Strips make Shots their B*tch!   \n",
      "8       1000034518  SPIN - Premium Retractable In-Ear Headphones w...   \n",
      "9        100004195  STUDIO IN THE SKY - A Documentary Feature Film...   \n",
      "10       100004721                                Of Jesus and Madmen   \n",
      "11       100005484                                   Lisa Lim New CD!   \n",
      "12      1000055792                                 The Cottage Market   \n",
      "13      1000056157  G-Spot Place for Gamers to connect with eachot...   \n",
      "14      1000057089  Tombstone: Old West tabletop game and miniatur...   \n",
      "15      1000064368                                     Survival Rings   \n",
      "16      1000064918                                          The Beard   \n",
      "17      1000068480                   Notes From London: Above & Below   \n",
      "18      1000070642                Mike Corey's Darkness & Light Album   \n",
      "19      1000071625                                           Boco Tea   \n",
      "20      1000072011              CMUK. Shoes: Take on Life Feet First.   \n",
      "21      1000081649                   MikeyJ clothing brand fundraiser   \n",
      "22      1000082254                     Alice in Wonderland in G Minor   \n",
      "23      1000087442  Mountain brew: A quest for alcohol sustainability   \n",
      "24      1000091520                        The Book Zoo - A Mini-Comic   \n",
      "25      1000102741  Matt Cavenaugh & Jenny Powers make their 1st a...   \n",
      "26      1000103948                               Superhero Teddy Bear   \n",
      "27      1000104688                                Permaculture Skills   \n",
      "28      1000104953  Rebel Army Origins: The Heroic Story Of Major ...   \n",
      "29       100011318                      My Moon - Animated Short Film   \n",
      "...            ...                                                ...   \n",
      "378631   999832803  MONSTROCARDS- A Creative Drawing Game of Horri...   \n",
      "378632    99984851                                           \"Loreto\"   \n",
      "378633   999865831  STATE OF G - Men's Blazer Jacket & Women's Car...   \n",
      "378634   999867839                                      Transcaucasia   \n",
      "378635    99987261  You're Not Cis, You Just Think You Are: My Enb...   \n",
      "378636   999877902                      Little Saturday's Debut Album   \n",
      "378637   999878813                           Ways to Look at the Moon   \n",
      "378638   999880710                                Terminal Uniqueness   \n",
      "378639   999884445  Superette Tea - Boldly Caffeinated Loose Leaf Tea   \n",
      "378640   999893629                          Ciridian Helix (Canceled)   \n",
      "378641    99991751   Here is the oasis for the youngest in the world.   \n",
      "378642   999929142  ÉPOUVANTAILS : 28mm Figurines de jeux pour KIN...   \n",
      "378643   999931480                     Google Glass Shield (Canceled)   \n",
      "378644   999934908                               The Manual Bar Blade   \n",
      "378645   999941823        The Chronicles of Erinoth - A Graphic Novel   \n",
      "378646   999943841                                The Dog Coffee Book   \n",
      "378647   999950812                              The Cease is Increase   \n",
      "378648   999955533        Cards and Chit Network Season 2! (Canceled)   \n",
      "378649   999963618      Colorado International Activism Film Festival   \n",
      "378650    99996661                         Date Seat - Boston iOS App   \n",
      "378651   999969812                                       AT THE BEACH   \n",
      "378652   999971898                        Beach Wrestling Documentary   \n",
      "378653   999972264                                            Islanda   \n",
      "378654   999975836              Homemade fresh dog food, Cleveland OH   \n",
      "378655   999976312                         Angela's Poetry (Canceled)   \n",
      "378656   999976400  ChknTruk Nationwide Charity Drive 2014 (Canceled)   \n",
      "378657   999977640                                          The Tribe   \n",
      "378658   999986353  Walls of Remedy- New lesbian Romantic Comedy f...   \n",
      "378659   999987933                           BioDefense Education Kit   \n",
      "378660   999988282                  Nou Renmen Ayiti!  We Love Haiti!   \n",
      "\n",
      "                category main_category currency    deadline      goal  \\\n",
      "0                 Poetry    Publishing      GBP  2015-10-09    1000.0   \n",
      "1         Narrative Film  Film & Video      USD  2017-11-01   30000.0   \n",
      "2         Narrative Film  Film & Video      USD  2013-02-26   45000.0   \n",
      "3                  Music         Music      USD  2012-04-16    5000.0   \n",
      "4           Film & Video  Film & Video      USD  2015-08-29   19500.0   \n",
      "5            Restaurants          Food      USD  2016-04-01   50000.0   \n",
      "6                   Food          Food      USD  2014-12-21    1000.0   \n",
      "7                 Drinks          Food      USD  2016-03-17   25000.0   \n",
      "8         Product Design        Design      USD  2014-05-29  125000.0   \n",
      "9            Documentary  Film & Video      USD  2014-08-10   65000.0   \n",
      "10            Nonfiction    Publishing      CAD  2013-10-09    2500.0   \n",
      "11            Indie Rock         Music      USD  2013-04-08   12500.0   \n",
      "12                Crafts        Crafts      USD  2014-10-02    5000.0   \n",
      "13                 Games         Games      USD  2016-03-25  200000.0   \n",
      "14        Tabletop Games         Games      GBP  2017-05-03    5000.0   \n",
      "15                Design        Design      USD  2015-02-28    2500.0   \n",
      "16           Comic Books        Comics      USD  2014-11-08    1500.0   \n",
      "17             Art Books    Publishing      USD  2015-05-10    3000.0   \n",
      "18                 Music         Music      USD  2012-08-17     250.0   \n",
      "19                  Food          Food      USD  2012-06-02    5000.0   \n",
      "20               Fashion       Fashion      USD  2013-12-30   20000.0   \n",
      "21         Childrenswear       Fashion      AUD  2017-09-07    2500.0   \n",
      "22               Theater       Theater      USD  2014-06-15    3500.0   \n",
      "23                Drinks          Food      NOK  2015-02-25     500.0   \n",
      "24                Comics        Comics      USD  2014-11-12     175.0   \n",
      "25                 Music         Music      USD  2011-01-06   10000.0   \n",
      "26                   DIY        Crafts      GBP  2016-01-05   12000.0   \n",
      "27             Webseries  Film & Video      CAD  2014-12-14   17757.0   \n",
      "28                Comics        Comics      GBP  2016-01-28     100.0   \n",
      "29             Animation  Film & Video      USD  2017-05-03   50000.0   \n",
      "...                  ...           ...      ...         ...       ...   \n",
      "378631     Playing Cards         Games      USD  2014-10-03   10000.0   \n",
      "378632            Comedy  Film & Video      USD  2014-06-05   12000.0   \n",
      "378633           Apparel       Fashion      USD  2014-12-13   25000.0   \n",
      "378634       Photography   Photography      USD  2011-01-08    4000.0   \n",
      "378635        Nonfiction    Publishing      USD  2015-09-24     800.0   \n",
      "378636    Country & Folk         Music      CAD  2014-12-17    5000.0   \n",
      "378637            Shorts  Film & Video      USD  2017-10-13   10000.0   \n",
      "378638        Nonfiction    Publishing      USD  2014-08-15    5000.0   \n",
      "378639            Drinks          Food      USD  2015-12-03    5000.0   \n",
      "378640           Fiction    Publishing      USD  2014-09-11    1000.0   \n",
      "378641    Product Design        Design      CHF  2015-09-04   80000.0   \n",
      "378642    Tabletop Games         Games      EUR  2017-10-31    1000.0   \n",
      "378643       3D Printing    Technology      USD  2014-05-26    6500.0   \n",
      "378644    Product Design        Design      USD  2015-12-15    3500.0   \n",
      "378645            Comics        Comics      GBP  2013-10-10   16000.0   \n",
      "378646  Children's Books    Publishing      USD  2013-11-30     950.0   \n",
      "378647        Nonfiction    Publishing      USD  2012-09-14    4999.0   \n",
      "378648    Tabletop Games         Games      USD  2016-02-23     500.0   \n",
      "378649    Narrative Film  Film & Video      USD  2017-04-09     500.0   \n",
      "378650              Apps    Technology      USD  2016-09-05    6000.0   \n",
      "378651   Classical Music         Music      CAD  2014-03-22    5000.0   \n",
      "378652       Documentary  Film & Video      NOK  2015-04-28   20000.0   \n",
      "378653       Documentary  Film & Video      USD  2012-03-16    1700.0   \n",
      "378654       Small Batch          Food      USD  2017-04-19    6500.0   \n",
      "378655            Poetry    Publishing      CAD  2014-09-20    5500.0   \n",
      "378656       Documentary  Film & Video      USD  2014-10-17   50000.0   \n",
      "378657    Narrative Film  Film & Video      USD  2011-07-19    1500.0   \n",
      "378658    Narrative Film  Film & Video      USD  2010-08-16   15000.0   \n",
      "378659        Technology    Technology      USD  2016-02-13   15000.0   \n",
      "378660   Performance Art           Art      USD  2011-08-16    2000.0   \n",
      "\n",
      "                   launched   pledged       state  backers country  \\\n",
      "0       2015-08-11 12:12:28      0.00      failed        0      GB   \n",
      "1       2017-09-02 04:43:57   2421.00      failed       15      US   \n",
      "2       2013-01-12 00:20:50    220.00      failed        3      US   \n",
      "3       2012-03-17 03:24:11      1.00      failed        1      US   \n",
      "4       2015-07-04 08:35:03   1283.00    canceled       14      US   \n",
      "5       2016-02-26 13:38:27  52375.00  successful      224      US   \n",
      "6       2014-12-01 18:30:44   1205.00  successful       16      US   \n",
      "7       2016-02-01 20:05:12    453.00      failed       40      US   \n",
      "8       2014-04-24 18:14:43   8233.00    canceled       58      US   \n",
      "9       2014-07-11 21:55:48   6240.57    canceled       43      US   \n",
      "10      2013-09-09 18:19:37      0.00      failed        0      CA   \n",
      "11      2013-03-09 06:42:58  12700.00  successful      100      US   \n",
      "12      2014-09-02 17:11:50      0.00      failed        0      US   \n",
      "13      2016-02-09 23:01:12      0.00      failed        0      US   \n",
      "14      2017-04-05 19:44:18  94175.00  successful      761      GB   \n",
      "15      2015-01-29 02:10:53    664.00      failed       11      US   \n",
      "16      2014-10-09 22:27:52    395.00      failed       16      US   \n",
      "17      2015-04-10 21:20:54    789.00      failed       20      US   \n",
      "18      2012-08-02 14:11:32    250.00  successful        7      US   \n",
      "19      2012-05-03 17:24:32   1781.00      failed       40      US   \n",
      "20      2013-11-25 07:06:11  34268.00  successful      624      US   \n",
      "21      2017-08-08 01:20:20      1.00      failed        1      AU   \n",
      "22      2014-05-16 10:10:38    650.00      failed       12      US   \n",
      "23      2015-01-26 19:17:33     48.00      failed        3      NO   \n",
      "24      2014-10-23 17:15:50    701.66  successful       66      US   \n",
      "25      2010-12-07 23:16:50  15827.00  successful      147      US   \n",
      "26      2015-12-06 20:09:06      0.00      failed        0      GB   \n",
      "27      2014-11-14 18:02:00  48905.00  successful      571      CA   \n",
      "28      2015-12-29 16:59:29    112.38  successful       27      GB   \n",
      "29      2017-04-03 17:11:33  57577.31  successful      840      US   \n",
      "...                     ...       ...         ...      ...     ...   \n",
      "378631  2014-09-03 19:53:50  13861.50  successful      413      US   \n",
      "378632  2014-05-06 23:50:34      0.00      failed        0      US   \n",
      "378633  2014-11-13 17:16:17  11643.00      failed       97      US   \n",
      "378634  2010-11-08 02:43:59   3531.00      failed       37      US   \n",
      "378635  2015-08-25 22:37:14     70.00      failed        5      US   \n",
      "378636  2014-11-17 17:50:12   5435.00  successful       78      CA   \n",
      "378637  2017-08-29 06:57:28  10245.00  successful      123      US   \n",
      "378638  2014-07-15 02:10:39     18.00      failed        5      US   \n",
      "378639  2015-11-03 13:04:14   5579.00  successful      103      US   \n",
      "378640  2014-08-08 21:49:31    100.00    canceled        2      US   \n",
      "378641  2015-07-06 18:00:47      0.00      failed        0      CH   \n",
      "378642  2017-10-04 11:26:44   1246.00  successful       35      FR   \n",
      "378643  2014-05-05 20:22:45      0.00    canceled        0      US   \n",
      "378644  2015-11-23 07:33:14   6169.00  successful      120      US   \n",
      "378645  2013-09-10 22:45:26   2738.00      failed       38      GB   \n",
      "378646  2013-10-18 21:35:04   1732.02  successful       31      US   \n",
      "378647  2012-08-15 17:11:00    980.00      failed       16      US   \n",
      "378648  2016-01-24 16:03:27    121.00    canceled        5      US   \n",
      "378649  2017-02-08 02:28:44    135.00      failed        6      US   \n",
      "378650  2016-07-29 15:36:29      0.00      failed        0      US   \n",
      "378651  2014-02-20 01:00:16   5501.00  successful       78      CA   \n",
      "378652  2015-03-29 21:30:33  21500.00  successful       36      NO   \n",
      "378653  2012-02-15 04:31:10     25.00      failed        1      US   \n",
      "378654  2017-03-20 22:08:22    154.00      failed        4      US   \n",
      "378655  2014-08-06 03:46:07      0.00    canceled        0      CA   \n",
      "378656  2014-09-17 02:35:30     25.00    canceled        1      US   \n",
      "378657  2011-06-22 03:35:14    155.00      failed        5      US   \n",
      "378658  2010-07-01 19:40:30     20.00      failed        1      US   \n",
      "378659  2016-01-13 18:13:53    200.00      failed        6      US   \n",
      "378660  2011-07-19 09:07:47    524.00      failed       17      US   \n",
      "\n",
      "        usd pledged  usd_pledged_real  usd_goal_real  \n",
      "0              0.00              0.00        1533.95  \n",
      "1            100.00           2421.00       30000.00  \n",
      "2            220.00            220.00       45000.00  \n",
      "3              1.00              1.00        5000.00  \n",
      "4           1283.00           1283.00       19500.00  \n",
      "5          52375.00          52375.00       50000.00  \n",
      "6           1205.00           1205.00        1000.00  \n",
      "7            453.00            453.00       25000.00  \n",
      "8           8233.00           8233.00      125000.00  \n",
      "9           6240.57           6240.57       65000.00  \n",
      "10             0.00              0.00        2406.39  \n",
      "11         12700.00          12700.00       12500.00  \n",
      "12             0.00              0.00        5000.00  \n",
      "13             0.00              0.00      200000.00  \n",
      "14         57763.78         121857.33        6469.73  \n",
      "15           664.00            664.00        2500.00  \n",
      "16           395.00            395.00        1500.00  \n",
      "17           789.00            789.00        3000.00  \n",
      "18           250.00            250.00         250.00  \n",
      "19          1781.00           1781.00        5000.00  \n",
      "20         34268.00          34268.00       20000.00  \n",
      "21             0.00              0.81        2026.10  \n",
      "22           650.00            650.00        3500.00  \n",
      "23             6.18              6.29          65.55  \n",
      "24           701.66            701.66         175.00  \n",
      "25         15827.00          15827.00       10000.00  \n",
      "26             0.00              0.00       17489.65  \n",
      "27         43203.25          42174.03       15313.04  \n",
      "28           167.70            160.60         142.91  \n",
      "29         10120.00          57577.31       50000.00  \n",
      "...             ...               ...            ...  \n",
      "378631     13861.50          13861.50       10000.00  \n",
      "378632         0.00              0.00       12000.00  \n",
      "378633     11643.00          11643.00       25000.00  \n",
      "378634      3531.00           3531.00        4000.00  \n",
      "378635        70.00             70.00         800.00  \n",
      "378636      4814.88           4686.96        4311.83  \n",
      "378637       145.00          10245.00       10000.00  \n",
      "378638        18.00             18.00        5000.00  \n",
      "378639      5579.00           5579.00        5000.00  \n",
      "378640       100.00            100.00        1000.00  \n",
      "378641         0.00              0.00       82207.27  \n",
      "378642        66.72           1452.47        1165.70  \n",
      "378643         0.00              0.00        6500.00  \n",
      "378644      6169.00           6169.00        3500.00  \n",
      "378645      4281.15           4374.99       25566.05  \n",
      "378646      1732.02           1732.02         950.00  \n",
      "378647       980.00            980.00        4999.00  \n",
      "378648       121.00            121.00         500.00  \n",
      "378649        45.00            135.00         500.00  \n",
      "378650         0.00              0.00        6000.00  \n",
      "378651      5019.92           4983.69        4529.81  \n",
      "378652      2698.97           2875.83        2675.19  \n",
      "378653        25.00             25.00        1700.00  \n",
      "378654         0.00            154.00        6500.00  \n",
      "378655         0.00              0.00        4949.60  \n",
      "378656        25.00             25.00       50000.00  \n",
      "378657       155.00            155.00        1500.00  \n",
      "378658        20.00             20.00       15000.00  \n",
      "378659       200.00            200.00       15000.00  \n",
      "378660       524.00            524.00        2000.00  \n",
      "\n",
      "[378661 rows x 15 columns]>\n",
      "DataFrame has 15 columns and 378661 rows\n"
     ]
    }
   ],
   "source": [
    "#Lets see the size of the dataframe\n",
    "\n",
    "print(df.info)\n",
    "print('DataFrame has {} columns and {} rows'.format(df.shape[1], \n",
    "                                                       df.shape[0]))"
   ]
  },
  {
   "cell_type": "code",
   "execution_count": 7,
   "metadata": {},
   "outputs": [
    {
     "data": {
      "text/html": [
       "<div>\n",
       "<style scoped>\n",
       "    .dataframe tbody tr th:only-of-type {\n",
       "        vertical-align: middle;\n",
       "    }\n",
       "\n",
       "    .dataframe tbody tr th {\n",
       "        vertical-align: top;\n",
       "    }\n",
       "\n",
       "    .dataframe thead th {\n",
       "        text-align: right;\n",
       "    }\n",
       "</style>\n",
       "<table border=\"1\" class=\"dataframe\">\n",
       "  <thead>\n",
       "    <tr style=\"text-align: right;\">\n",
       "      <th></th>\n",
       "      <th>ID</th>\n",
       "      <th>name</th>\n",
       "      <th>category</th>\n",
       "      <th>main_category</th>\n",
       "      <th>currency</th>\n",
       "      <th>deadline</th>\n",
       "      <th>goal</th>\n",
       "      <th>launched</th>\n",
       "      <th>pledged</th>\n",
       "      <th>state</th>\n",
       "      <th>backers</th>\n",
       "      <th>country</th>\n",
       "      <th>usd pledged</th>\n",
       "      <th>usd_pledged_real</th>\n",
       "      <th>usd_goal_real</th>\n",
       "    </tr>\n",
       "  </thead>\n",
       "  <tbody>\n",
       "    <tr>\n",
       "      <th>0</th>\n",
       "      <td>1000002330</td>\n",
       "      <td>The Songs of Adelaide &amp; Abullah</td>\n",
       "      <td>Poetry</td>\n",
       "      <td>Publishing</td>\n",
       "      <td>GBP</td>\n",
       "      <td>2015-10-09</td>\n",
       "      <td>1000.0</td>\n",
       "      <td>2015-08-11 12:12:28</td>\n",
       "      <td>0.0</td>\n",
       "      <td>failed</td>\n",
       "      <td>0</td>\n",
       "      <td>GB</td>\n",
       "      <td>0.0</td>\n",
       "      <td>0.0</td>\n",
       "      <td>1533.95</td>\n",
       "    </tr>\n",
       "    <tr>\n",
       "      <th>1</th>\n",
       "      <td>1000003930</td>\n",
       "      <td>Greeting From Earth: ZGAC Arts Capsule For ET</td>\n",
       "      <td>Narrative Film</td>\n",
       "      <td>Film &amp; Video</td>\n",
       "      <td>USD</td>\n",
       "      <td>2017-11-01</td>\n",
       "      <td>30000.0</td>\n",
       "      <td>2017-09-02 04:43:57</td>\n",
       "      <td>2421.0</td>\n",
       "      <td>failed</td>\n",
       "      <td>15</td>\n",
       "      <td>US</td>\n",
       "      <td>100.0</td>\n",
       "      <td>2421.0</td>\n",
       "      <td>30000.00</td>\n",
       "    </tr>\n",
       "    <tr>\n",
       "      <th>2</th>\n",
       "      <td>1000004038</td>\n",
       "      <td>Where is Hank?</td>\n",
       "      <td>Narrative Film</td>\n",
       "      <td>Film &amp; Video</td>\n",
       "      <td>USD</td>\n",
       "      <td>2013-02-26</td>\n",
       "      <td>45000.0</td>\n",
       "      <td>2013-01-12 00:20:50</td>\n",
       "      <td>220.0</td>\n",
       "      <td>failed</td>\n",
       "      <td>3</td>\n",
       "      <td>US</td>\n",
       "      <td>220.0</td>\n",
       "      <td>220.0</td>\n",
       "      <td>45000.00</td>\n",
       "    </tr>\n",
       "    <tr>\n",
       "      <th>3</th>\n",
       "      <td>1000007540</td>\n",
       "      <td>ToshiCapital Rekordz Needs Help to Complete Album</td>\n",
       "      <td>Music</td>\n",
       "      <td>Music</td>\n",
       "      <td>USD</td>\n",
       "      <td>2012-04-16</td>\n",
       "      <td>5000.0</td>\n",
       "      <td>2012-03-17 03:24:11</td>\n",
       "      <td>1.0</td>\n",
       "      <td>failed</td>\n",
       "      <td>1</td>\n",
       "      <td>US</td>\n",
       "      <td>1.0</td>\n",
       "      <td>1.0</td>\n",
       "      <td>5000.00</td>\n",
       "    </tr>\n",
       "    <tr>\n",
       "      <th>4</th>\n",
       "      <td>1000011046</td>\n",
       "      <td>Community Film Project: The Art of Neighborhoo...</td>\n",
       "      <td>Film &amp; Video</td>\n",
       "      <td>Film &amp; Video</td>\n",
       "      <td>USD</td>\n",
       "      <td>2015-08-29</td>\n",
       "      <td>19500.0</td>\n",
       "      <td>2015-07-04 08:35:03</td>\n",
       "      <td>1283.0</td>\n",
       "      <td>canceled</td>\n",
       "      <td>14</td>\n",
       "      <td>US</td>\n",
       "      <td>1283.0</td>\n",
       "      <td>1283.0</td>\n",
       "      <td>19500.00</td>\n",
       "    </tr>\n",
       "  </tbody>\n",
       "</table>\n",
       "</div>"
      ],
      "text/plain": [
       "           ID                                               name  \\\n",
       "0  1000002330                    The Songs of Adelaide & Abullah   \n",
       "1  1000003930      Greeting From Earth: ZGAC Arts Capsule For ET   \n",
       "2  1000004038                                     Where is Hank?   \n",
       "3  1000007540  ToshiCapital Rekordz Needs Help to Complete Album   \n",
       "4  1000011046  Community Film Project: The Art of Neighborhoo...   \n",
       "\n",
       "         category main_category currency    deadline     goal  \\\n",
       "0          Poetry    Publishing      GBP  2015-10-09   1000.0   \n",
       "1  Narrative Film  Film & Video      USD  2017-11-01  30000.0   \n",
       "2  Narrative Film  Film & Video      USD  2013-02-26  45000.0   \n",
       "3           Music         Music      USD  2012-04-16   5000.0   \n",
       "4    Film & Video  Film & Video      USD  2015-08-29  19500.0   \n",
       "\n",
       "              launched  pledged     state  backers country  usd pledged  \\\n",
       "0  2015-08-11 12:12:28      0.0    failed        0      GB          0.0   \n",
       "1  2017-09-02 04:43:57   2421.0    failed       15      US        100.0   \n",
       "2  2013-01-12 00:20:50    220.0    failed        3      US        220.0   \n",
       "3  2012-03-17 03:24:11      1.0    failed        1      US          1.0   \n",
       "4  2015-07-04 08:35:03   1283.0  canceled       14      US       1283.0   \n",
       "\n",
       "   usd_pledged_real  usd_goal_real  \n",
       "0               0.0        1533.95  \n",
       "1            2421.0       30000.00  \n",
       "2             220.0       45000.00  \n",
       "3               1.0        5000.00  \n",
       "4            1283.0       19500.00  "
      ]
     },
     "execution_count": 7,
     "metadata": {},
     "output_type": "execute_result"
    }
   ],
   "source": [
    "# Peeking at the data\n",
    "df.head()"
   ]
  },
  {
   "cell_type": "code",
   "execution_count": 8,
   "metadata": {},
   "outputs": [
    {
     "data": {
      "text/html": [
       "<div>\n",
       "<style scoped>\n",
       "    .dataframe tbody tr th:only-of-type {\n",
       "        vertical-align: middle;\n",
       "    }\n",
       "\n",
       "    .dataframe tbody tr th {\n",
       "        vertical-align: top;\n",
       "    }\n",
       "\n",
       "    .dataframe thead th {\n",
       "        text-align: right;\n",
       "    }\n",
       "</style>\n",
       "<table border=\"1\" class=\"dataframe\">\n",
       "  <thead>\n",
       "    <tr style=\"text-align: right;\">\n",
       "      <th></th>\n",
       "      <th>ID</th>\n",
       "      <th>goal</th>\n",
       "      <th>pledged</th>\n",
       "      <th>backers</th>\n",
       "      <th>usd pledged</th>\n",
       "      <th>usd_pledged_real</th>\n",
       "      <th>usd_goal_real</th>\n",
       "    </tr>\n",
       "  </thead>\n",
       "  <tbody>\n",
       "    <tr>\n",
       "      <th>count</th>\n",
       "      <td>3.786610e+05</td>\n",
       "      <td>3.786610e+05</td>\n",
       "      <td>3.786610e+05</td>\n",
       "      <td>378661.000000</td>\n",
       "      <td>3.748640e+05</td>\n",
       "      <td>3.786610e+05</td>\n",
       "      <td>3.786610e+05</td>\n",
       "    </tr>\n",
       "    <tr>\n",
       "      <th>mean</th>\n",
       "      <td>1.074731e+09</td>\n",
       "      <td>4.908079e+04</td>\n",
       "      <td>9.682979e+03</td>\n",
       "      <td>105.617476</td>\n",
       "      <td>7.036729e+03</td>\n",
       "      <td>9.058924e+03</td>\n",
       "      <td>4.545440e+04</td>\n",
       "    </tr>\n",
       "    <tr>\n",
       "      <th>std</th>\n",
       "      <td>6.190862e+08</td>\n",
       "      <td>1.183391e+06</td>\n",
       "      <td>9.563601e+04</td>\n",
       "      <td>907.185035</td>\n",
       "      <td>7.863975e+04</td>\n",
       "      <td>9.097334e+04</td>\n",
       "      <td>1.152950e+06</td>\n",
       "    </tr>\n",
       "    <tr>\n",
       "      <th>min</th>\n",
       "      <td>5.971000e+03</td>\n",
       "      <td>1.000000e-02</td>\n",
       "      <td>0.000000e+00</td>\n",
       "      <td>0.000000</td>\n",
       "      <td>0.000000e+00</td>\n",
       "      <td>0.000000e+00</td>\n",
       "      <td>1.000000e-02</td>\n",
       "    </tr>\n",
       "    <tr>\n",
       "      <th>25%</th>\n",
       "      <td>5.382635e+08</td>\n",
       "      <td>2.000000e+03</td>\n",
       "      <td>3.000000e+01</td>\n",
       "      <td>2.000000</td>\n",
       "      <td>1.698000e+01</td>\n",
       "      <td>3.100000e+01</td>\n",
       "      <td>2.000000e+03</td>\n",
       "    </tr>\n",
       "    <tr>\n",
       "      <th>50%</th>\n",
       "      <td>1.075276e+09</td>\n",
       "      <td>5.200000e+03</td>\n",
       "      <td>6.200000e+02</td>\n",
       "      <td>12.000000</td>\n",
       "      <td>3.947200e+02</td>\n",
       "      <td>6.243300e+02</td>\n",
       "      <td>5.500000e+03</td>\n",
       "    </tr>\n",
       "    <tr>\n",
       "      <th>75%</th>\n",
       "      <td>1.610149e+09</td>\n",
       "      <td>1.600000e+04</td>\n",
       "      <td>4.076000e+03</td>\n",
       "      <td>56.000000</td>\n",
       "      <td>3.034090e+03</td>\n",
       "      <td>4.050000e+03</td>\n",
       "      <td>1.550000e+04</td>\n",
       "    </tr>\n",
       "    <tr>\n",
       "      <th>max</th>\n",
       "      <td>2.147476e+09</td>\n",
       "      <td>1.000000e+08</td>\n",
       "      <td>2.033899e+07</td>\n",
       "      <td>219382.000000</td>\n",
       "      <td>2.033899e+07</td>\n",
       "      <td>2.033899e+07</td>\n",
       "      <td>1.663614e+08</td>\n",
       "    </tr>\n",
       "  </tbody>\n",
       "</table>\n",
       "</div>"
      ],
      "text/plain": [
       "                 ID          goal       pledged        backers   usd pledged  \\\n",
       "count  3.786610e+05  3.786610e+05  3.786610e+05  378661.000000  3.748640e+05   \n",
       "mean   1.074731e+09  4.908079e+04  9.682979e+03     105.617476  7.036729e+03   \n",
       "std    6.190862e+08  1.183391e+06  9.563601e+04     907.185035  7.863975e+04   \n",
       "min    5.971000e+03  1.000000e-02  0.000000e+00       0.000000  0.000000e+00   \n",
       "25%    5.382635e+08  2.000000e+03  3.000000e+01       2.000000  1.698000e+01   \n",
       "50%    1.075276e+09  5.200000e+03  6.200000e+02      12.000000  3.947200e+02   \n",
       "75%    1.610149e+09  1.600000e+04  4.076000e+03      56.000000  3.034090e+03   \n",
       "max    2.147476e+09  1.000000e+08  2.033899e+07  219382.000000  2.033899e+07   \n",
       "\n",
       "       usd_pledged_real  usd_goal_real  \n",
       "count      3.786610e+05   3.786610e+05  \n",
       "mean       9.058924e+03   4.545440e+04  \n",
       "std        9.097334e+04   1.152950e+06  \n",
       "min        0.000000e+00   1.000000e-02  \n",
       "25%        3.100000e+01   2.000000e+03  \n",
       "50%        6.243300e+02   5.500000e+03  \n",
       "75%        4.050000e+03   1.550000e+04  \n",
       "max        2.033899e+07   1.663614e+08  "
      ]
     },
     "execution_count": 8,
     "metadata": {},
     "output_type": "execute_result"
    }
   ],
   "source": [
    "df.describe()"
   ]
  },
  {
   "cell_type": "code",
   "execution_count": 9,
   "metadata": {},
   "outputs": [
    {
     "name": "stdout",
     "output_type": "stream",
     "text": [
      "ID                  378661\n",
      "name                375764\n",
      "category               159\n",
      "main_category           15\n",
      "currency                14\n",
      "deadline              3164\n",
      "goal                  8353\n",
      "launched            378089\n",
      "pledged              62130\n",
      "state                    6\n",
      "backers               3963\n",
      "country                 23\n",
      "usd pledged          95455\n",
      "usd_pledged_real    106065\n",
      "usd_goal_real        50339\n",
      "dtype: int64\n"
     ]
    }
   ],
   "source": [
    "print(df.nunique())"
   ]
  },
  {
   "cell_type": "code",
   "execution_count": 10,
   "metadata": {},
   "outputs": [
    {
     "name": "stdout",
     "output_type": "stream",
     "text": [
      "Total number of countries are 23\n"
     ]
    },
    {
     "data": {
      "text/plain": [
       "<matplotlib.axes._subplots.AxesSubplot at 0x228e2a96550>"
      ]
     },
     "execution_count": 10,
     "metadata": {},
     "output_type": "execute_result"
    },
    {
     "data": {
      "image/png": "[encoded data removed]",
      "text/plain": [
       "<matplotlib.figure.Figure at 0x228e2a7ef28>"
      ]
     },
     "metadata": {},
     "output_type": "display_data"
    }
   ],
   "source": [
    "# Lets look at the different countries which have participated\n",
    "print('Total number of countries are', df['country'].nunique())\n",
    "df['country'].value_counts()[:23].plot(kind='bar', \n",
    "                                       figsize=(25,10), \n",
    "                                       title='Projects from various countries')"
   ]
  },
  {
   "cell_type": "raw",
   "metadata": {},
   "source": []
  },
  {
   "cell_type": "code",
   "execution_count": 11,
   "metadata": {},
   "outputs": [
    {
     "name": "stdout",
     "output_type": "stream",
     "text": [
      "Total number of categories are 15\n"
     ]
    },
    {
     "data": {
      "text/plain": [
       "<matplotlib.axes._subplots.AxesSubplot at 0x228e2dbecf8>"
      ]
     },
     "execution_count": 11,
     "metadata": {},
     "output_type": "execute_result"
    },
    {
     "data": {
      "image/png": "[encoded data removed]",
      "text/plain": [
       "<matplotlib.figure.Figure at 0x228e2d85ba8>"
      ]
     },
     "metadata": {},
     "output_type": "display_data"
    }
   ],
   "source": [
    "# Lets have a look at categories\n",
    "print('Total number of categories are', df['main_category'].nunique())\n",
    "\n",
    "df['main_category'].value_counts().plot(kind='bar', \n",
    "                                        figsize=(25,10), \n",
    "                                        title='Main Categories')"
   ]
  },
  {
   "cell_type": "code",
   "execution_count": 12,
   "metadata": {},
   "outputs": [
    {
     "name": "stdout",
     "output_type": "stream",
     "text": [
      "Total number of currency are 14\n"
     ]
    },
    {
     "data": {
      "text/plain": [
       "<matplotlib.axes._subplots.AxesSubplot at 0x228e2d70a90>"
      ]
     },
     "execution_count": 12,
     "metadata": {},
     "output_type": "execute_result"
    },
    {
     "data": {
      "image/png": "[encoded data removed]",
      "text/plain": [
       "<matplotlib.figure.Figure at 0x228e2e69208>"
      ]
     },
     "metadata": {},
     "output_type": "display_data"
    }
   ],
   "source": [
    "# Lets have a look at currency\n",
    "print('Total number of currency are', df['currency'].nunique())\n",
    "\n",
    "df['currency'].value_counts().plot(kind='bar', \n",
    "                                        figsize=(25,10), \n",
    "                                        title='currency')"
   ]
  },
  {
   "cell_type": "code",
   "execution_count": 13,
   "metadata": {},
   "outputs": [
    {
     "data": {
      "application/vnd.plotly.v1+json": {
       "config": {
        "linkText": "Export to plot.ly",
        "plotlyServerURL": "https://plot.ly",
        "showLink": true
       },
       "data": [
        {
         "labels": [
          "failed",
          "successful",
          "canceled",
          "undefined",
          "live",
          "suspended"
         ],
         "marker": {
          "colors": [
           "red"
          ]
         },
         "type": "pie",
         "uid": "7d682202-8543-49cb-a977-9b1e5b40c2f6",
         "values": [
          52.22,
          35.38,
          10.24,
          0.94,
          0.74,
          0.49
         ]
        }
       ],
       "layout": {
        "legend": {
         "orientation": "h"
        },
        "title": "Percentage Distribuition of various Campaign States"
       }
      },
      "text/html": [
       "<div id=\"597b7f57-b54f-4508-a2bc-ce2dab3ff379\" style=\"height: 525px; width: 100%;\" class=\"plotly-graph-div\"></div><script type=\"text/javascript\">require([\"plotly\"], function(Plotly) { window.PLOTLYENV=window.PLOTLYENV || {};window.PLOTLYENV.BASE_URL=\"https://plot.ly\";Plotly.newPlot(\"597b7f57-b54f-4508-a2bc-ce2dab3ff379\", [{\"labels\": [\"failed\", \"successful\", \"canceled\", \"undefined\", \"live\", \"suspended\"], \"marker\": {\"colors\": [\"red\"]}, \"values\": [52.22, 35.38, 10.24, 0.94, 0.74, 0.49], \"type\": \"pie\", \"uid\": \"7d682202-8543-49cb-a977-9b1e5b40c2f6\"}], {\"legend\": {\"orientation\": \"h\"}, \"title\": \"Percentage Distribuition of various Campaign States\"}, {\"showLink\": true, \"linkText\": \"Export to plot.ly\", \"plotlyServerURL\": \"https://plot.ly\"})});</script><script type=\"text/javascript\">window.addEventListener(\"resize\", function(){window._Plotly.Plots.resize(document.getElementById(\"597b7f57-b54f-4508-a2bc-ce2dab3ff379\"));});</script>"
      ],
      "text/vnd.plotly.v1+html": [
       "<div id=\"597b7f57-b54f-4508-a2bc-ce2dab3ff379\" style=\"height: 525px; width: 100%;\" class=\"plotly-graph-div\"></div><script type=\"text/javascript\">require([\"plotly\"], function(Plotly) { window.PLOTLYENV=window.PLOTLYENV || {};window.PLOTLYENV.BASE_URL=\"https://plot.ly\";Plotly.newPlot(\"597b7f57-b54f-4508-a2bc-ce2dab3ff379\", [{\"labels\": [\"failed\", \"successful\", \"canceled\", \"undefined\", \"live\", \"suspended\"], \"marker\": {\"colors\": [\"red\"]}, \"values\": [52.22, 35.38, 10.24, 0.94, 0.74, 0.49], \"type\": \"pie\", \"uid\": \"7d682202-8543-49cb-a977-9b1e5b40c2f6\"}], {\"legend\": {\"orientation\": \"h\"}, \"title\": \"Percentage Distribuition of various Campaign States\"}, {\"showLink\": true, \"linkText\": \"Export to plot.ly\", \"plotlyServerURL\": \"https://plot.ly\"})});</script><script type=\"text/javascript\">window.addEventListener(\"resize\", function(){window._Plotly.Plots.resize(document.getElementById(\"597b7f57-b54f-4508-a2bc-ce2dab3ff379\"));});</script>"
      ]
     },
     "metadata": {},
     "output_type": "display_data"
    }
   ],
   "source": [
    "# Plotting the pie chart for that\n",
    "campaign_state = round(df[\"state\"].value_counts() / len(df[\"state\"]) * 100,2)\n",
    "\n",
    "labels = list(campaign_state.index)\n",
    "values = list(campaign_state.values)\n",
    "\n",
    "trace1 = go.Pie(labels=labels, values=values, marker=dict(colors=['red']))\n",
    "\n",
    "layout = go.Layout(title='Percentage Distribuition of various Campaign States', legend=dict(orientation=\"h\"));\n",
    "\n",
    "fig = go.Figure(data=[trace1], layout=layout)\n",
    "iplot(fig)"
   ]
  },
  {
   "cell_type": "code",
   "execution_count": 14,
   "metadata": {},
   "outputs": [
    {
     "name": "stdout",
     "output_type": "stream",
     "text": [
      "The total number of successful campaigns are 133956\n",
      "The total number of successful campaigns are 197719\n"
     ]
    }
   ],
   "source": [
    "# We can see most of the campigns were failed\n",
    "# Lets see how many were successful and how many were failed\n",
    "#No_sucess = len(df[df['state'] == 'successful']\n",
    "No_sucess = len(df[df['state'] == 'successful'])\n",
    "No_failed = len(df[df['state'] == 'failed'])\n",
    "print('The total number of successful campaigns are',No_sucess)\n",
    "print('The total number of successful campaigns are',No_failed)\n"
   ]
  },
  {
   "cell_type": "code",
   "execution_count": 15,
   "metadata": {},
   "outputs": [
    {
     "name": "stdout",
     "output_type": "stream",
     "text": [
      "35.38 % of all the campaigns were sucessfull\n",
      "52.22 % of all the campaigns were failed\n"
     ]
    }
   ],
   "source": [
    "# Lets have a look at the percentage of the campigns failed\n",
    "print ('{} % of all the campaigns were sucessfull'.format(round(len(df[df['state'] == 'successful']) / len(df) * 100,2)))\n",
    "print ('{} % of all the campaigns were failed'.format(round(len(df[df['state'] == 'failed']) / len(df) * 100,2)))\n"
   ]
  },
  {
   "cell_type": "code",
   "execution_count": 16,
   "metadata": {},
   "outputs": [
    {
     "name": "stdout",
     "output_type": "stream",
     "text": [
      "Total number of states are 6\n"
     ]
    },
    {
     "data": {
      "text/plain": [
       "<matplotlib.axes._subplots.AxesSubplot at 0x228e5730d30>"
      ]
     },
     "execution_count": 16,
     "metadata": {},
     "output_type": "execute_result"
    },
    {
     "data": {
      "image/png": "[encoded data removed]",
      "text/plain": [
       "<matplotlib.figure.Figure at 0x228e0ce00b8>"
      ]
     },
     "metadata": {},
     "output_type": "display_data"
    }
   ],
   "source": [
    "# Lets have a look at differnt states of campaign\n",
    "print('Total number of states are', df['state'].nunique())\n",
    "\n",
    "df['state'].value_counts().plot(kind='bar', \n",
    "                                        figsize=(25,10), \n",
    "                                        title='Various states of the campaign')"
   ]
  },
  {
   "cell_type": "code",
   "execution_count": null,
   "metadata": {},
   "outputs": [],
   "source": []
  },
  {
   "cell_type": "markdown",
   "metadata": {},
   "source": [
    "# Data prepration"
   ]
  },
  {
   "cell_type": "code",
   "execution_count": 17,
   "metadata": {},
   "outputs": [
    {
     "name": "stdout",
     "output_type": "stream",
     "text": [
      "(331675, 15)\n"
     ]
    }
   ],
   "source": [
    "# The goal is to predict the project will be sucessfull or not\n",
    "# So, we take only the two classes ie: 'successful' or 'failed'\n",
    "\n",
    "df = df[(df['state'] == 'failed') | (df['state'] == 'successful')].copy()\n",
    "print(df.shape)"
   ]
  },
  {
   "cell_type": "code",
   "execution_count": 18,
   "metadata": {},
   "outputs": [
    {
     "data": {
      "text/plain": [
       "['ID',\n",
       " 'name',\n",
       " 'category',\n",
       " 'main_category',\n",
       " 'currency',\n",
       " 'deadline',\n",
       " 'goal',\n",
       " 'launched',\n",
       " 'pledged',\n",
       " 'state',\n",
       " 'backers',\n",
       " 'country',\n",
       " 'usd pledged',\n",
       " 'usd_pledged_real',\n",
       " 'usd_goal_real']"
      ]
     },
     "execution_count": 18,
     "metadata": {},
     "output_type": "execute_result"
    }
   ],
   "source": [
    "# lets see the columns\n",
    "list(df)"
   ]
  },
  {
   "cell_type": "code",
   "execution_count": 19,
   "metadata": {},
   "outputs": [],
   "source": [
    "# Dropping the colunns\n",
    "df = df.drop(['ID','name','usd pledged','usd_pledged_real','backers'], 1)\n",
    "    \n"
   ]
  },
  {
   "cell_type": "code",
   "execution_count": 20,
   "metadata": {},
   "outputs": [
    {
     "data": {
      "text/plain": [
       "['category',\n",
       " 'main_category',\n",
       " 'currency',\n",
       " 'deadline',\n",
       " 'goal',\n",
       " 'launched',\n",
       " 'pledged',\n",
       " 'state',\n",
       " 'country',\n",
       " 'usd_goal_real']"
      ]
     },
     "execution_count": 20,
     "metadata": {},
     "output_type": "execute_result"
    }
   ],
   "source": [
    "list(df)"
   ]
  },
  {
   "cell_type": "code",
   "execution_count": 21,
   "metadata": {},
   "outputs": [
    {
     "data": {
      "text/html": [
       "<div>\n",
       "<style scoped>\n",
       "    .dataframe tbody tr th:only-of-type {\n",
       "        vertical-align: middle;\n",
       "    }\n",
       "\n",
       "    .dataframe tbody tr th {\n",
       "        vertical-align: top;\n",
       "    }\n",
       "\n",
       "    .dataframe thead th {\n",
       "        text-align: right;\n",
       "    }\n",
       "</style>\n",
       "<table border=\"1\" class=\"dataframe\">\n",
       "  <thead>\n",
       "    <tr style=\"text-align: right;\">\n",
       "      <th></th>\n",
       "      <th>category</th>\n",
       "      <th>main_category</th>\n",
       "      <th>currency</th>\n",
       "      <th>deadline</th>\n",
       "      <th>goal</th>\n",
       "      <th>launched</th>\n",
       "      <th>pledged</th>\n",
       "      <th>state</th>\n",
       "      <th>country</th>\n",
       "      <th>usd_goal_real</th>\n",
       "    </tr>\n",
       "  </thead>\n",
       "  <tbody>\n",
       "    <tr>\n",
       "      <th>0</th>\n",
       "      <td>Poetry</td>\n",
       "      <td>Publishing</td>\n",
       "      <td>GBP</td>\n",
       "      <td>2015-10-09</td>\n",
       "      <td>1000.0</td>\n",
       "      <td>2015-08-11 12:12:28</td>\n",
       "      <td>0.0</td>\n",
       "      <td>failed</td>\n",
       "      <td>GB</td>\n",
       "      <td>1533.95</td>\n",
       "    </tr>\n",
       "    <tr>\n",
       "      <th>1</th>\n",
       "      <td>Narrative Film</td>\n",
       "      <td>Film &amp; Video</td>\n",
       "      <td>USD</td>\n",
       "      <td>2017-11-01</td>\n",
       "      <td>30000.0</td>\n",
       "      <td>2017-09-02 04:43:57</td>\n",
       "      <td>2421.0</td>\n",
       "      <td>failed</td>\n",
       "      <td>US</td>\n",
       "      <td>30000.00</td>\n",
       "    </tr>\n",
       "    <tr>\n",
       "      <th>2</th>\n",
       "      <td>Narrative Film</td>\n",
       "      <td>Film &amp; Video</td>\n",
       "      <td>USD</td>\n",
       "      <td>2013-02-26</td>\n",
       "      <td>45000.0</td>\n",
       "      <td>2013-01-12 00:20:50</td>\n",
       "      <td>220.0</td>\n",
       "      <td>failed</td>\n",
       "      <td>US</td>\n",
       "      <td>45000.00</td>\n",
       "    </tr>\n",
       "    <tr>\n",
       "      <th>3</th>\n",
       "      <td>Music</td>\n",
       "      <td>Music</td>\n",
       "      <td>USD</td>\n",
       "      <td>2012-04-16</td>\n",
       "      <td>5000.0</td>\n",
       "      <td>2012-03-17 03:24:11</td>\n",
       "      <td>1.0</td>\n",
       "      <td>failed</td>\n",
       "      <td>US</td>\n",
       "      <td>5000.00</td>\n",
       "    </tr>\n",
       "    <tr>\n",
       "      <th>5</th>\n",
       "      <td>Restaurants</td>\n",
       "      <td>Food</td>\n",
       "      <td>USD</td>\n",
       "      <td>2016-04-01</td>\n",
       "      <td>50000.0</td>\n",
       "      <td>2016-02-26 13:38:27</td>\n",
       "      <td>52375.0</td>\n",
       "      <td>successful</td>\n",
       "      <td>US</td>\n",
       "      <td>50000.00</td>\n",
       "    </tr>\n",
       "  </tbody>\n",
       "</table>\n",
       "</div>"
      ],
      "text/plain": [
       "         category main_category currency    deadline     goal  \\\n",
       "0          Poetry    Publishing      GBP  2015-10-09   1000.0   \n",
       "1  Narrative Film  Film & Video      USD  2017-11-01  30000.0   \n",
       "2  Narrative Film  Film & Video      USD  2013-02-26  45000.0   \n",
       "3           Music         Music      USD  2012-04-16   5000.0   \n",
       "5     Restaurants          Food      USD  2016-04-01  50000.0   \n",
       "\n",
       "              launched  pledged       state country  usd_goal_real  \n",
       "0  2015-08-11 12:12:28      0.0      failed      GB        1533.95  \n",
       "1  2017-09-02 04:43:57   2421.0      failed      US       30000.00  \n",
       "2  2013-01-12 00:20:50    220.0      failed      US       45000.00  \n",
       "3  2012-03-17 03:24:11      1.0      failed      US        5000.00  \n",
       "5  2016-02-26 13:38:27  52375.0  successful      US       50000.00  "
      ]
     },
     "execution_count": 21,
     "metadata": {},
     "output_type": "execute_result"
    }
   ],
   "source": [
    "df.head()"
   ]
  },
  {
   "cell_type": "code",
   "execution_count": 22,
   "metadata": {},
   "outputs": [],
   "source": [
    "# lets start converting dates into numbers so that we can give it to the algorithms \n",
    "df['launched'] = pd.to_datetime(df['launched'])\n",
    "df['deadline'] = pd.to_datetime(df['deadline'])\n",
    "df['duration_days'] = df['deadline'].subtract(df['launched'])\n",
    "df['duration_days'] = df['duration_days'].astype('timedelta64[D]')"
   ]
  },
  {
   "cell_type": "code",
   "execution_count": 23,
   "metadata": {},
   "outputs": [],
   "source": [
    "# lets start converting dates into numbers so that we can give it to the algorithms \n",
    "df['launched'] = pd.to_datetime(df['launched'])\n",
    "df['deadline'] = pd.to_datetime(df['deadline'])\n",
    "df['duration_days'] = df['deadline'].subtract(df['launched'])\n",
    "df['duration_days'] = df['duration_days'].astype('timedelta64[D]')"
   ]
  },
  {
   "cell_type": "code",
   "execution_count": 24,
   "metadata": {},
   "outputs": [
    {
     "data": {
      "text/html": [
       "<div>\n",
       "<style scoped>\n",
       "    .dataframe tbody tr th:only-of-type {\n",
       "        vertical-align: middle;\n",
       "    }\n",
       "\n",
       "    .dataframe tbody tr th {\n",
       "        vertical-align: top;\n",
       "    }\n",
       "\n",
       "    .dataframe thead th {\n",
       "        text-align: right;\n",
       "    }\n",
       "</style>\n",
       "<table border=\"1\" class=\"dataframe\">\n",
       "  <thead>\n",
       "    <tr style=\"text-align: right;\">\n",
       "      <th></th>\n",
       "      <th>category</th>\n",
       "      <th>main_category</th>\n",
       "      <th>currency</th>\n",
       "      <th>deadline</th>\n",
       "      <th>goal</th>\n",
       "      <th>launched</th>\n",
       "      <th>pledged</th>\n",
       "      <th>state</th>\n",
       "      <th>country</th>\n",
       "      <th>usd_goal_real</th>\n",
       "      <th>duration_days</th>\n",
       "    </tr>\n",
       "  </thead>\n",
       "  <tbody>\n",
       "    <tr>\n",
       "      <th>0</th>\n",
       "      <td>Poetry</td>\n",
       "      <td>Publishing</td>\n",
       "      <td>GBP</td>\n",
       "      <td>2015-10-09</td>\n",
       "      <td>1000.0</td>\n",
       "      <td>2015-08-11 12:12:28</td>\n",
       "      <td>0.0</td>\n",
       "      <td>failed</td>\n",
       "      <td>GB</td>\n",
       "      <td>1533.95</td>\n",
       "      <td>58.0</td>\n",
       "    </tr>\n",
       "    <tr>\n",
       "      <th>1</th>\n",
       "      <td>Narrative Film</td>\n",
       "      <td>Film &amp; Video</td>\n",
       "      <td>USD</td>\n",
       "      <td>2017-11-01</td>\n",
       "      <td>30000.0</td>\n",
       "      <td>2017-09-02 04:43:57</td>\n",
       "      <td>2421.0</td>\n",
       "      <td>failed</td>\n",
       "      <td>US</td>\n",
       "      <td>30000.00</td>\n",
       "      <td>59.0</td>\n",
       "    </tr>\n",
       "    <tr>\n",
       "      <th>2</th>\n",
       "      <td>Narrative Film</td>\n",
       "      <td>Film &amp; Video</td>\n",
       "      <td>USD</td>\n",
       "      <td>2013-02-26</td>\n",
       "      <td>45000.0</td>\n",
       "      <td>2013-01-12 00:20:50</td>\n",
       "      <td>220.0</td>\n",
       "      <td>failed</td>\n",
       "      <td>US</td>\n",
       "      <td>45000.00</td>\n",
       "      <td>44.0</td>\n",
       "    </tr>\n",
       "    <tr>\n",
       "      <th>3</th>\n",
       "      <td>Music</td>\n",
       "      <td>Music</td>\n",
       "      <td>USD</td>\n",
       "      <td>2012-04-16</td>\n",
       "      <td>5000.0</td>\n",
       "      <td>2012-03-17 03:24:11</td>\n",
       "      <td>1.0</td>\n",
       "      <td>failed</td>\n",
       "      <td>US</td>\n",
       "      <td>5000.00</td>\n",
       "      <td>29.0</td>\n",
       "    </tr>\n",
       "    <tr>\n",
       "      <th>5</th>\n",
       "      <td>Restaurants</td>\n",
       "      <td>Food</td>\n",
       "      <td>USD</td>\n",
       "      <td>2016-04-01</td>\n",
       "      <td>50000.0</td>\n",
       "      <td>2016-02-26 13:38:27</td>\n",
       "      <td>52375.0</td>\n",
       "      <td>successful</td>\n",
       "      <td>US</td>\n",
       "      <td>50000.00</td>\n",
       "      <td>34.0</td>\n",
       "    </tr>\n",
       "  </tbody>\n",
       "</table>\n",
       "</div>"
      ],
      "text/plain": [
       "         category main_category currency   deadline     goal  \\\n",
       "0          Poetry    Publishing      GBP 2015-10-09   1000.0   \n",
       "1  Narrative Film  Film & Video      USD 2017-11-01  30000.0   \n",
       "2  Narrative Film  Film & Video      USD 2013-02-26  45000.0   \n",
       "3           Music         Music      USD 2012-04-16   5000.0   \n",
       "5     Restaurants          Food      USD 2016-04-01  50000.0   \n",
       "\n",
       "             launched  pledged       state country  usd_goal_real  \\\n",
       "0 2015-08-11 12:12:28      0.0      failed      GB        1533.95   \n",
       "1 2017-09-02 04:43:57   2421.0      failed      US       30000.00   \n",
       "2 2013-01-12 00:20:50    220.0      failed      US       45000.00   \n",
       "3 2012-03-17 03:24:11      1.0      failed      US        5000.00   \n",
       "5 2016-02-26 13:38:27  52375.0  successful      US       50000.00   \n",
       "\n",
       "   duration_days  \n",
       "0           58.0  \n",
       "1           59.0  \n",
       "2           44.0  \n",
       "3           29.0  \n",
       "5           34.0  "
      ]
     },
     "execution_count": 24,
     "metadata": {},
     "output_type": "execute_result"
    }
   ],
   "source": [
    "df.head()"
   ]
  },
  {
   "cell_type": "code",
   "execution_count": 25,
   "metadata": {},
   "outputs": [],
   "source": [
    "# Dropping the old columns\n",
    "df = df.drop(['launched','deadline','pledged'], \n",
    "             1)"
   ]
  },
  {
   "cell_type": "code",
   "execution_count": 26,
   "metadata": {},
   "outputs": [
    {
     "data": {
      "text/html": [
       "<div>\n",
       "<style scoped>\n",
       "    .dataframe tbody tr th:only-of-type {\n",
       "        vertical-align: middle;\n",
       "    }\n",
       "\n",
       "    .dataframe tbody tr th {\n",
       "        vertical-align: top;\n",
       "    }\n",
       "\n",
       "    .dataframe thead th {\n",
       "        text-align: right;\n",
       "    }\n",
       "</style>\n",
       "<table border=\"1\" class=\"dataframe\">\n",
       "  <thead>\n",
       "    <tr style=\"text-align: right;\">\n",
       "      <th></th>\n",
       "      <th>category</th>\n",
       "      <th>main_category</th>\n",
       "      <th>currency</th>\n",
       "      <th>goal</th>\n",
       "      <th>state</th>\n",
       "      <th>country</th>\n",
       "      <th>usd_goal_real</th>\n",
       "      <th>duration_days</th>\n",
       "    </tr>\n",
       "  </thead>\n",
       "  <tbody>\n",
       "    <tr>\n",
       "      <th>0</th>\n",
       "      <td>Poetry</td>\n",
       "      <td>Publishing</td>\n",
       "      <td>GBP</td>\n",
       "      <td>1000.0</td>\n",
       "      <td>failed</td>\n",
       "      <td>GB</td>\n",
       "      <td>1533.95</td>\n",
       "      <td>58.0</td>\n",
       "    </tr>\n",
       "    <tr>\n",
       "      <th>1</th>\n",
       "      <td>Narrative Film</td>\n",
       "      <td>Film &amp; Video</td>\n",
       "      <td>USD</td>\n",
       "      <td>30000.0</td>\n",
       "      <td>failed</td>\n",
       "      <td>US</td>\n",
       "      <td>30000.00</td>\n",
       "      <td>59.0</td>\n",
       "    </tr>\n",
       "    <tr>\n",
       "      <th>2</th>\n",
       "      <td>Narrative Film</td>\n",
       "      <td>Film &amp; Video</td>\n",
       "      <td>USD</td>\n",
       "      <td>45000.0</td>\n",
       "      <td>failed</td>\n",
       "      <td>US</td>\n",
       "      <td>45000.00</td>\n",
       "      <td>44.0</td>\n",
       "    </tr>\n",
       "    <tr>\n",
       "      <th>3</th>\n",
       "      <td>Music</td>\n",
       "      <td>Music</td>\n",
       "      <td>USD</td>\n",
       "      <td>5000.0</td>\n",
       "      <td>failed</td>\n",
       "      <td>US</td>\n",
       "      <td>5000.00</td>\n",
       "      <td>29.0</td>\n",
       "    </tr>\n",
       "    <tr>\n",
       "      <th>5</th>\n",
       "      <td>Restaurants</td>\n",
       "      <td>Food</td>\n",
       "      <td>USD</td>\n",
       "      <td>50000.0</td>\n",
       "      <td>successful</td>\n",
       "      <td>US</td>\n",
       "      <td>50000.00</td>\n",
       "      <td>34.0</td>\n",
       "    </tr>\n",
       "  </tbody>\n",
       "</table>\n",
       "</div>"
      ],
      "text/plain": [
       "         category main_category currency     goal       state country  \\\n",
       "0          Poetry    Publishing      GBP   1000.0      failed      GB   \n",
       "1  Narrative Film  Film & Video      USD  30000.0      failed      US   \n",
       "2  Narrative Film  Film & Video      USD  45000.0      failed      US   \n",
       "3           Music         Music      USD   5000.0      failed      US   \n",
       "5     Restaurants          Food      USD  50000.0  successful      US   \n",
       "\n",
       "   usd_goal_real  duration_days  \n",
       "0        1533.95           58.0  \n",
       "1       30000.00           59.0  \n",
       "2       45000.00           44.0  \n",
       "3        5000.00           29.0  \n",
       "5       50000.00           34.0  "
      ]
     },
     "execution_count": 26,
     "metadata": {},
     "output_type": "execute_result"
    }
   ],
   "source": [
    "df.head()"
   ]
  },
  {
   "cell_type": "code",
   "execution_count": 27,
   "metadata": {},
   "outputs": [],
   "source": [
    "# Now lets start encoding the columns state, country, currency,main_category"
   ]
  },
  {
   "cell_type": "code",
   "execution_count": 28,
   "metadata": {},
   "outputs": [],
   "source": [
    "# Sucessful :0 and Failed:1\n",
    "df['state'] = df['state'].map({\n",
    "    'failed': 0,\n",
    "    'successful': 1\n",
    "})"
   ]
  },
  {
   "cell_type": "code",
   "execution_count": 29,
   "metadata": {},
   "outputs": [
    {
     "data": {
      "text/html": [
       "<div>\n",
       "<style scoped>\n",
       "    .dataframe tbody tr th:only-of-type {\n",
       "        vertical-align: middle;\n",
       "    }\n",
       "\n",
       "    .dataframe tbody tr th {\n",
       "        vertical-align: top;\n",
       "    }\n",
       "\n",
       "    .dataframe thead th {\n",
       "        text-align: right;\n",
       "    }\n",
       "</style>\n",
       "<table border=\"1\" class=\"dataframe\">\n",
       "  <thead>\n",
       "    <tr style=\"text-align: right;\">\n",
       "      <th></th>\n",
       "      <th>category</th>\n",
       "      <th>main_category</th>\n",
       "      <th>currency</th>\n",
       "      <th>goal</th>\n",
       "      <th>state</th>\n",
       "      <th>country</th>\n",
       "      <th>usd_goal_real</th>\n",
       "      <th>duration_days</th>\n",
       "    </tr>\n",
       "  </thead>\n",
       "  <tbody>\n",
       "    <tr>\n",
       "      <th>0</th>\n",
       "      <td>Poetry</td>\n",
       "      <td>Publishing</td>\n",
       "      <td>GBP</td>\n",
       "      <td>1000.0</td>\n",
       "      <td>0</td>\n",
       "      <td>GB</td>\n",
       "      <td>1533.95</td>\n",
       "      <td>58.0</td>\n",
       "    </tr>\n",
       "    <tr>\n",
       "      <th>1</th>\n",
       "      <td>Narrative Film</td>\n",
       "      <td>Film &amp; Video</td>\n",
       "      <td>USD</td>\n",
       "      <td>30000.0</td>\n",
       "      <td>0</td>\n",
       "      <td>US</td>\n",
       "      <td>30000.00</td>\n",
       "      <td>59.0</td>\n",
       "    </tr>\n",
       "    <tr>\n",
       "      <th>2</th>\n",
       "      <td>Narrative Film</td>\n",
       "      <td>Film &amp; Video</td>\n",
       "      <td>USD</td>\n",
       "      <td>45000.0</td>\n",
       "      <td>0</td>\n",
       "      <td>US</td>\n",
       "      <td>45000.00</td>\n",
       "      <td>44.0</td>\n",
       "    </tr>\n",
       "    <tr>\n",
       "      <th>3</th>\n",
       "      <td>Music</td>\n",
       "      <td>Music</td>\n",
       "      <td>USD</td>\n",
       "      <td>5000.0</td>\n",
       "      <td>0</td>\n",
       "      <td>US</td>\n",
       "      <td>5000.00</td>\n",
       "      <td>29.0</td>\n",
       "    </tr>\n",
       "    <tr>\n",
       "      <th>5</th>\n",
       "      <td>Restaurants</td>\n",
       "      <td>Food</td>\n",
       "      <td>USD</td>\n",
       "      <td>50000.0</td>\n",
       "      <td>1</td>\n",
       "      <td>US</td>\n",
       "      <td>50000.00</td>\n",
       "      <td>34.0</td>\n",
       "    </tr>\n",
       "  </tbody>\n",
       "</table>\n",
       "</div>"
      ],
      "text/plain": [
       "         category main_category currency     goal  state country  \\\n",
       "0          Poetry    Publishing      GBP   1000.0      0      GB   \n",
       "1  Narrative Film  Film & Video      USD  30000.0      0      US   \n",
       "2  Narrative Film  Film & Video      USD  45000.0      0      US   \n",
       "3           Music         Music      USD   5000.0      0      US   \n",
       "5     Restaurants          Food      USD  50000.0      1      US   \n",
       "\n",
       "   usd_goal_real  duration_days  \n",
       "0        1533.95           58.0  \n",
       "1       30000.00           59.0  \n",
       "2       45000.00           44.0  \n",
       "3        5000.00           29.0  \n",
       "5       50000.00           34.0  "
      ]
     },
     "execution_count": 29,
     "metadata": {},
     "output_type": "execute_result"
    }
   ],
   "source": [
    "df.head()"
   ]
  },
  {
   "cell_type": "code",
   "execution_count": 30,
   "metadata": {},
   "outputs": [],
   "source": [
    "# Next is the category and main_category using one hot encoding\n",
    "df = pd.get_dummies(df, columns = ['category'])\n",
    "df = pd.get_dummies(df, columns = ['main_category'])\n"
   ]
  },
  {
   "cell_type": "code",
   "execution_count": 31,
   "metadata": {},
   "outputs": [],
   "source": [
    "\n",
    "df.head()\n",
    "df.rename(columns={\"main_category_Film & Video\": \"main_category_Film\"}, inplace=True)"
   ]
  },
  {
   "cell_type": "code",
   "execution_count": 32,
   "metadata": {},
   "outputs": [
    {
     "data": {
      "text/plain": [
       "['currency',\n",
       " 'goal',\n",
       " 'state',\n",
       " 'country',\n",
       " 'usd_goal_real',\n",
       " 'duration_days',\n",
       " 'category_3D Printing',\n",
       " 'category_Academic',\n",
       " 'category_Accessories',\n",
       " 'category_Action',\n",
       " 'category_Animals',\n",
       " 'category_Animation',\n",
       " 'category_Anthologies',\n",
       " 'category_Apparel',\n",
       " 'category_Apps',\n",
       " 'category_Architecture',\n",
       " 'category_Art',\n",
       " 'category_Art Books',\n",
       " 'category_Audio',\n",
       " 'category_Bacon',\n",
       " 'category_Blues',\n",
       " 'category_Calendars',\n",
       " 'category_Camera Equipment',\n",
       " 'category_Candles',\n",
       " 'category_Ceramics',\n",
       " \"category_Children's Books\",\n",
       " 'category_Childrenswear',\n",
       " 'category_Chiptune',\n",
       " 'category_Civic Design',\n",
       " 'category_Classical Music',\n",
       " 'category_Comedy',\n",
       " 'category_Comic Books',\n",
       " 'category_Comics',\n",
       " 'category_Community Gardens',\n",
       " 'category_Conceptual Art',\n",
       " 'category_Cookbooks',\n",
       " 'category_Country & Folk',\n",
       " 'category_Couture',\n",
       " 'category_Crafts',\n",
       " 'category_Crochet',\n",
       " 'category_DIY',\n",
       " 'category_DIY Electronics',\n",
       " 'category_Dance',\n",
       " 'category_Design',\n",
       " 'category_Digital Art',\n",
       " 'category_Documentary',\n",
       " 'category_Drama',\n",
       " 'category_Drinks',\n",
       " 'category_Electronic Music',\n",
       " 'category_Embroidery',\n",
       " 'category_Events',\n",
       " 'category_Experimental',\n",
       " 'category_Fabrication Tools',\n",
       " 'category_Faith',\n",
       " 'category_Family',\n",
       " 'category_Fantasy',\n",
       " \"category_Farmer's Markets\",\n",
       " 'category_Farms',\n",
       " 'category_Fashion',\n",
       " 'category_Festivals',\n",
       " 'category_Fiction',\n",
       " 'category_Film & Video',\n",
       " 'category_Fine Art',\n",
       " 'category_Flight',\n",
       " 'category_Food',\n",
       " 'category_Food Trucks',\n",
       " 'category_Footwear',\n",
       " 'category_Gadgets',\n",
       " 'category_Games',\n",
       " 'category_Gaming Hardware',\n",
       " 'category_Glass',\n",
       " 'category_Graphic Design',\n",
       " 'category_Graphic Novels',\n",
       " 'category_Hardware',\n",
       " 'category_Hip-Hop',\n",
       " 'category_Horror',\n",
       " 'category_Illustration',\n",
       " 'category_Immersive',\n",
       " 'category_Indie Rock',\n",
       " 'category_Installations',\n",
       " 'category_Interactive Design',\n",
       " 'category_Jazz',\n",
       " 'category_Jewelry',\n",
       " 'category_Journalism',\n",
       " 'category_Kids',\n",
       " 'category_Knitting',\n",
       " 'category_Latin',\n",
       " 'category_Letterpress',\n",
       " 'category_Literary Journals',\n",
       " 'category_Literary Spaces',\n",
       " 'category_Live Games',\n",
       " 'category_Makerspaces',\n",
       " 'category_Metal',\n",
       " 'category_Mixed Media',\n",
       " 'category_Mobile Games',\n",
       " 'category_Movie Theaters',\n",
       " 'category_Music',\n",
       " 'category_Music Videos',\n",
       " 'category_Musical',\n",
       " 'category_Narrative Film',\n",
       " 'category_Nature',\n",
       " 'category_Nonfiction',\n",
       " 'category_Painting',\n",
       " 'category_People',\n",
       " 'category_Performance Art',\n",
       " 'category_Performances',\n",
       " 'category_Periodicals',\n",
       " 'category_Pet Fashion',\n",
       " 'category_Photo',\n",
       " 'category_Photobooks',\n",
       " 'category_Photography',\n",
       " 'category_Places',\n",
       " 'category_Playing Cards',\n",
       " 'category_Plays',\n",
       " 'category_Poetry',\n",
       " 'category_Pop',\n",
       " 'category_Pottery',\n",
       " 'category_Print',\n",
       " 'category_Printing',\n",
       " 'category_Product Design',\n",
       " 'category_Public Art',\n",
       " 'category_Publishing',\n",
       " 'category_Punk',\n",
       " 'category_Puzzles',\n",
       " 'category_Quilts',\n",
       " 'category_R&B',\n",
       " 'category_Radio & Podcasts',\n",
       " 'category_Ready-to-wear',\n",
       " 'category_Residencies',\n",
       " 'category_Restaurants',\n",
       " 'category_Robots',\n",
       " 'category_Rock',\n",
       " 'category_Romance',\n",
       " 'category_Science Fiction',\n",
       " 'category_Sculpture',\n",
       " 'category_Shorts',\n",
       " 'category_Small Batch',\n",
       " 'category_Software',\n",
       " 'category_Sound',\n",
       " 'category_Space Exploration',\n",
       " 'category_Spaces',\n",
       " 'category_Stationery',\n",
       " 'category_Tabletop Games',\n",
       " 'category_Taxidermy',\n",
       " 'category_Technology',\n",
       " 'category_Television',\n",
       " 'category_Textiles',\n",
       " 'category_Theater',\n",
       " 'category_Thrillers',\n",
       " 'category_Translations',\n",
       " 'category_Typography',\n",
       " 'category_Vegan',\n",
       " 'category_Video',\n",
       " 'category_Video Art',\n",
       " 'category_Video Games',\n",
       " 'category_Wearables',\n",
       " 'category_Weaving',\n",
       " 'category_Web',\n",
       " 'category_Webcomics',\n",
       " 'category_Webseries',\n",
       " 'category_Woodworking',\n",
       " 'category_Workshops',\n",
       " 'category_World Music',\n",
       " 'category_Young Adult',\n",
       " 'category_Zines',\n",
       " 'main_category_Art',\n",
       " 'main_category_Comics',\n",
       " 'main_category_Crafts',\n",
       " 'main_category_Dance',\n",
       " 'main_category_Design',\n",
       " 'main_category_Fashion',\n",
       " 'main_category_Film',\n",
       " 'main_category_Food',\n",
       " 'main_category_Games',\n",
       " 'main_category_Journalism',\n",
       " 'main_category_Music',\n",
       " 'main_category_Photography',\n",
       " 'main_category_Publishing',\n",
       " 'main_category_Technology',\n",
       " 'main_category_Theater']"
      ]
     },
     "execution_count": 32,
     "metadata": {},
     "output_type": "execute_result"
    }
   ],
   "source": [
    "list(df)"
   ]
  },
  {
   "cell_type": "code",
   "execution_count": 33,
   "metadata": {},
   "outputs": [],
   "source": [
    "# Encoding the currency and country\n",
    "df = pd.get_dummies(df, columns = ['currency'])\n",
    "df = pd.get_dummies(df, columns=['country'])"
   ]
  },
  {
   "cell_type": "code",
   "execution_count": 34,
   "metadata": {},
   "outputs": [
    {
     "data": {
      "text/html": [
       "<div>\n",
       "<style scoped>\n",
       "    .dataframe tbody tr th:only-of-type {\n",
       "        vertical-align: middle;\n",
       "    }\n",
       "\n",
       "    .dataframe tbody tr th {\n",
       "        vertical-align: top;\n",
       "    }\n",
       "\n",
       "    .dataframe thead th {\n",
       "        text-align: right;\n",
       "    }\n",
       "</style>\n",
       "<table border=\"1\" class=\"dataframe\">\n",
       "  <thead>\n",
       "    <tr style=\"text-align: right;\">\n",
       "      <th></th>\n",
       "      <th>goal</th>\n",
       "      <th>state</th>\n",
       "      <th>usd_goal_real</th>\n",
       "      <th>duration_days</th>\n",
       "      <th>category_3D Printing</th>\n",
       "      <th>category_Academic</th>\n",
       "      <th>category_Accessories</th>\n",
       "      <th>category_Action</th>\n",
       "      <th>category_Animals</th>\n",
       "      <th>category_Animation</th>\n",
       "      <th>...</th>\n",
       "      <th>country_JP</th>\n",
       "      <th>country_LU</th>\n",
       "      <th>country_MX</th>\n",
       "      <th>country_N,0\"</th>\n",
       "      <th>country_NL</th>\n",
       "      <th>country_NO</th>\n",
       "      <th>country_NZ</th>\n",
       "      <th>country_SE</th>\n",
       "      <th>country_SG</th>\n",
       "      <th>country_US</th>\n",
       "    </tr>\n",
       "  </thead>\n",
       "  <tbody>\n",
       "    <tr>\n",
       "      <th>0</th>\n",
       "      <td>1000.0</td>\n",
       "      <td>0</td>\n",
       "      <td>1533.95</td>\n",
       "      <td>58.0</td>\n",
       "      <td>0</td>\n",
       "      <td>0</td>\n",
       "      <td>0</td>\n",
       "      <td>0</td>\n",
       "      <td>0</td>\n",
       "      <td>0</td>\n",
       "      <td>...</td>\n",
       "      <td>0</td>\n",
       "      <td>0</td>\n",
       "      <td>0</td>\n",
       "      <td>0</td>\n",
       "      <td>0</td>\n",
       "      <td>0</td>\n",
       "      <td>0</td>\n",
       "      <td>0</td>\n",
       "      <td>0</td>\n",
       "      <td>0</td>\n",
       "    </tr>\n",
       "    <tr>\n",
       "      <th>1</th>\n",
       "      <td>30000.0</td>\n",
       "      <td>0</td>\n",
       "      <td>30000.00</td>\n",
       "      <td>59.0</td>\n",
       "      <td>0</td>\n",
       "      <td>0</td>\n",
       "      <td>0</td>\n",
       "      <td>0</td>\n",
       "      <td>0</td>\n",
       "      <td>0</td>\n",
       "      <td>...</td>\n",
       "      <td>0</td>\n",
       "      <td>0</td>\n",
       "      <td>0</td>\n",
       "      <td>0</td>\n",
       "      <td>0</td>\n",
       "      <td>0</td>\n",
       "      <td>0</td>\n",
       "      <td>0</td>\n",
       "      <td>0</td>\n",
       "      <td>1</td>\n",
       "    </tr>\n",
       "    <tr>\n",
       "      <th>2</th>\n",
       "      <td>45000.0</td>\n",
       "      <td>0</td>\n",
       "      <td>45000.00</td>\n",
       "      <td>44.0</td>\n",
       "      <td>0</td>\n",
       "      <td>0</td>\n",
       "      <td>0</td>\n",
       "      <td>0</td>\n",
       "      <td>0</td>\n",
       "      <td>0</td>\n",
       "      <td>...</td>\n",
       "      <td>0</td>\n",
       "      <td>0</td>\n",
       "      <td>0</td>\n",
       "      <td>0</td>\n",
       "      <td>0</td>\n",
       "      <td>0</td>\n",
       "      <td>0</td>\n",
       "      <td>0</td>\n",
       "      <td>0</td>\n",
       "      <td>1</td>\n",
       "    </tr>\n",
       "    <tr>\n",
       "      <th>3</th>\n",
       "      <td>5000.0</td>\n",
       "      <td>0</td>\n",
       "      <td>5000.00</td>\n",
       "      <td>29.0</td>\n",
       "      <td>0</td>\n",
       "      <td>0</td>\n",
       "      <td>0</td>\n",
       "      <td>0</td>\n",
       "      <td>0</td>\n",
       "      <td>0</td>\n",
       "      <td>...</td>\n",
       "      <td>0</td>\n",
       "      <td>0</td>\n",
       "      <td>0</td>\n",
       "      <td>0</td>\n",
       "      <td>0</td>\n",
       "      <td>0</td>\n",
       "      <td>0</td>\n",
       "      <td>0</td>\n",
       "      <td>0</td>\n",
       "      <td>1</td>\n",
       "    </tr>\n",
       "    <tr>\n",
       "      <th>5</th>\n",
       "      <td>50000.0</td>\n",
       "      <td>1</td>\n",
       "      <td>50000.00</td>\n",
       "      <td>34.0</td>\n",
       "      <td>0</td>\n",
       "      <td>0</td>\n",
       "      <td>0</td>\n",
       "      <td>0</td>\n",
       "      <td>0</td>\n",
       "      <td>0</td>\n",
       "      <td>...</td>\n",
       "      <td>0</td>\n",
       "      <td>0</td>\n",
       "      <td>0</td>\n",
       "      <td>0</td>\n",
       "      <td>0</td>\n",
       "      <td>0</td>\n",
       "      <td>0</td>\n",
       "      <td>0</td>\n",
       "      <td>0</td>\n",
       "      <td>1</td>\n",
       "    </tr>\n",
       "  </tbody>\n",
       "</table>\n",
       "<p>5 rows × 215 columns</p>\n",
       "</div>"
      ],
      "text/plain": [
       "      goal  state  usd_goal_real  duration_days  category_3D Printing  \\\n",
       "0   1000.0      0        1533.95           58.0                     0   \n",
       "1  30000.0      0       30000.00           59.0                     0   \n",
       "2  45000.0      0       45000.00           44.0                     0   \n",
       "3   5000.0      0        5000.00           29.0                     0   \n",
       "5  50000.0      1       50000.00           34.0                     0   \n",
       "\n",
       "   category_Academic  category_Accessories  category_Action  category_Animals  \\\n",
       "0                  0                     0                0                 0   \n",
       "1                  0                     0                0                 0   \n",
       "2                  0                     0                0                 0   \n",
       "3                  0                     0                0                 0   \n",
       "5                  0                     0                0                 0   \n",
       "\n",
       "   category_Animation     ...      country_JP  country_LU  country_MX  \\\n",
       "0                   0     ...               0           0           0   \n",
       "1                   0     ...               0           0           0   \n",
       "2                   0     ...               0           0           0   \n",
       "3                   0     ...               0           0           0   \n",
       "5                   0     ...               0           0           0   \n",
       "\n",
       "   country_N,0\"  country_NL  country_NO  country_NZ  country_SE  country_SG  \\\n",
       "0             0           0           0           0           0           0   \n",
       "1             0           0           0           0           0           0   \n",
       "2             0           0           0           0           0           0   \n",
       "3             0           0           0           0           0           0   \n",
       "5             0           0           0           0           0           0   \n",
       "\n",
       "   country_US  \n",
       "0           0  \n",
       "1           1  \n",
       "2           1  \n",
       "3           1  \n",
       "5           1  \n",
       "\n",
       "[5 rows x 215 columns]"
      ]
     },
     "execution_count": 34,
     "metadata": {},
     "output_type": "execute_result"
    }
   ],
   "source": [
    "df.head()"
   ]
  },
  {
   "cell_type": "code",
   "execution_count": 35,
   "metadata": {},
   "outputs": [],
   "source": [
    "# Model prepration and splitting data for testing and training"
   ]
  },
  {
   "cell_type": "code",
   "execution_count": 36,
   "metadata": {},
   "outputs": [
    {
     "data": {
      "text/plain": [
       "0    0\n",
       "1    0\n",
       "2    0\n",
       "3    0\n",
       "5    1\n",
       "Name: state, dtype: int64"
      ]
     },
     "execution_count": 36,
     "metadata": {},
     "output_type": "execute_result"
    }
   ],
   "source": [
    "#Lets take out the class for prediction\n",
    "Y = df['state']\n",
    "\n",
    "Y.head()"
   ]
  },
  {
   "cell_type": "code",
   "execution_count": 37,
   "metadata": {},
   "outputs": [],
   "source": [
    "#Dropping the state from the dataframe\n",
    "\n",
    "df = df.drop('state', 1)"
   ]
  },
  {
   "cell_type": "code",
   "execution_count": 38,
   "metadata": {},
   "outputs": [],
   "source": [
    "# Splitting the data into test dataset and train dataset\n",
    "X_train, X_test, Y_train, Y_test = train_test_split(\n",
    "    df,\n",
    "    Y, \n",
    "    test_size = 0.1,\n",
    "    random_state=42\n",
    ")"
   ]
  },
  {
   "cell_type": "code",
   "execution_count": 39,
   "metadata": {},
   "outputs": [
    {
     "name": "stdout",
     "output_type": "stream",
     "text": [
      "(298507, 214) (298507,)\n"
     ]
    }
   ],
   "source": [
    "print(X_train.shape, Y_train.shape)"
   ]
  },
  {
   "cell_type": "code",
   "execution_count": 40,
   "metadata": {},
   "outputs": [
    {
     "name": "stdout",
     "output_type": "stream",
     "text": [
      "(33168, 214) (33168,)\n"
     ]
    }
   ],
   "source": [
    "print(X_test.shape, Y_test.shape)"
   ]
  },
  {
   "cell_type": "code",
   "execution_count": 41,
   "metadata": {},
   "outputs": [],
   "source": [
    "# machine learning"
   ]
  },
  {
   "cell_type": "code",
   "execution_count": 42,
   "metadata": {},
   "outputs": [
    {
     "data": {
      "text/plain": [
       "LogisticRegression(C=1.0, class_weight=None, dual=False, fit_intercept=True,\n",
       "          intercept_scaling=1, max_iter=100, multi_class='ovr', n_jobs=1,\n",
       "          penalty='l2', random_state=None, solver='liblinear', tol=0.0001,\n",
       "          verbose=0, warm_start=False)"
      ]
     },
     "execution_count": 42,
     "metadata": {},
     "output_type": "execute_result"
    }
   ],
   "source": [
    "# logistic Regression\n",
    "logreg = LogisticRegression()\n",
    "logreg.fit(X_train, Y_train)\n",
    "\n"
   ]
  },
  {
   "cell_type": "code",
   "execution_count": 43,
   "metadata": {},
   "outputs": [],
   "source": [
    "accuracy_log = round(logreg.score(X_test, Y_test) * 100, 2)\n",
    "#y_pred = logreg.predict(X_test)\n",
    "#print('\\nClassification metrics')\n",
    "#print(classification_report(y_true=Y_test, y_pred=y_pred))"
   ]
  },
  {
   "cell_type": "code",
   "execution_count": 44,
   "metadata": {},
   "outputs": [
    {
     "name": "stdout",
     "output_type": "stream",
     "text": [
      "The accuracy for the Logistic regression model is 59.54 %\n"
     ]
    }
   ],
   "source": [
    "# Logistic regression accuracy\n",
    "\n",
    "accuracy_log = round(logreg.score(X_test, Y_test) * 100, 2)\n",
    "print ('The accuracy for the Logistic regression model is',accuracy_log,\"%\")"
   ]
  },
  {
   "cell_type": "code",
   "execution_count": 45,
   "metadata": {},
   "outputs": [
    {
     "name": "stdout",
     "output_type": "stream",
     "text": [
      "The accuracy for the K-Nearrest Neighbors model is 63.11 %\n"
     ]
    }
   ],
   "source": [
    "# K-Nearrest Neighbors\n",
    "knn = KNeighborsClassifier()\n",
    "knn.fit(X_train, Y_train)\n",
    "\n",
    "accuracy_knn = round(knn.score(X_test, Y_test) * 100, 2)\n",
    "print ('The accuracy for the K-Nearrest Neighbors model is',accuracy_knn,\"%\")"
   ]
  },
  {
   "cell_type": "code",
   "execution_count": 46,
   "metadata": {},
   "outputs": [
    {
     "name": "stdout",
     "output_type": "stream",
     "text": [
      "The accuracy for the SVM model is 47.59 %\n"
     ]
    }
   ],
   "source": [
    "# Support Vector Machine \n",
    "# Filed to converge, taking longer time than the remaining algorithms\n",
    "linear_svc = LinearSVC()\n",
    "linear_svc.fit(X_train, Y_train)\n",
    "\n",
    "accuracy_linear_svc = round(linear_svc.score(X_test, Y_test) * 100, 2)\n",
    "print ('The accuracy for the SVM model is',accuracy_linear_svc,\"%\")"
   ]
  },
  {
   "cell_type": "code",
   "execution_count": 47,
   "metadata": {},
   "outputs": [
    {
     "name": "stdout",
     "output_type": "stream",
     "text": [
      "The accuracy for the Decision Tree model is 63.65 %\n"
     ]
    }
   ],
   "source": [
    "# Decision Tree\n",
    "decision_tree = DecisionTreeClassifier()\n",
    "decision_tree.fit(X_train, Y_train)\n",
    "\n",
    "accuracy_decision_tree = round(decision_tree.score(X_test, Y_test) * 100, 2)\n",
    "print ('The accuracy for the Decision Tree model is',accuracy_decision_tree,\"%\")"
   ]
  },
  {
   "cell_type": "code",
   "execution_count": 48,
   "metadata": {},
   "outputs": [
    {
     "name": "stdout",
     "output_type": "stream",
     "text": [
      "The accuracy for the Random Forest model is 65.24 %\n"
     ]
    }
   ],
   "source": [
    "# Random Forest\n",
    "random_forest = RandomForestClassifier(n_estimators=100)\n",
    "random_forest.fit(X_train, Y_train)\n",
    "\n",
    "accuracy_random_forest = round(random_forest.score(X_test, Y_test) * 100, 2)\n",
    "print ('The accuracy for the Random Forest model is',accuracy_random_forest,\"%\")"
   ]
  },
  {
   "cell_type": "code",
   "execution_count": 51,
   "metadata": {},
   "outputs": [
    {
     "name": "stdout",
     "output_type": "stream",
     "text": [
      "The accuracy for the AdaBoost model is 65.86 %\n"
     ]
    }
   ],
   "source": [
    "# AdaBoostClassifier\n",
    "ada_boost = AdaBoostClassifier(DecisionTreeClassifier(max_depth=1),\n",
    "                         algorithm=\"SAMME\",\n",
    "                         n_estimators=200)\n",
    "\n",
    "ada_boost.fit(X_train, Y_train)\n",
    "\n",
    "accuracy_bdt = round(ada_boost.score(X_test, Y_test) * 100, 2)\n",
    "print ('The accuracy for the AdaBoost model is',accuracy_bdt,\"%\")"
   ]
  },
  {
   "cell_type": "code",
   "execution_count": null,
   "metadata": {},
   "outputs": [],
   "source": [
    "# GradientBoostingClassifier\n",
    "grad_boost = GradientBoostingClassifier(n_estimators=100, \n",
    "                                 max_depth=1, \n",
    "                                 random_state=0)\n",
    "grad_boost.fit(X_train, Y_train)\n",
    "\n",
    "accuracy_grad_boost = round(clf_gb.score(X_test, Y_test) * 100, 2)\n",
    "print ('The accuracy for the Gradient Boosting model is',accuracy_grad_boost,\"%\")"
   ]
  },
  {
   "cell_type": "code",
   "execution_count": null,
   "metadata": {},
   "outputs": [],
   "source": [
    "# Multi Laayer perceptron\n",
    "ml_p = MLPClassifier(solver='lbfgs', \n",
    "                    alpha=1e-5, \n",
    "                    hidden_layer_sizes=(21, 2), \n",
    "                    random_state=1)\n",
    "\n",
    "ml_p.fit(X_train, Y_train)\n",
    "\n",
    "accuracy_ml_p = round(mlp.score(X_test, Y_test) * 100, 2)\n",
    "print ('The accuracy for the Multi Laayer perceptron model is',accuracy_ml_p,\"%\")"
   ]
  },
  {
   "cell_type": "code",
   "execution_count": null,
   "metadata": {},
   "outputs": [],
   "source": [
    "#LightGBM Classifier\n",
    "LightGBM = LGBMClassifier(\n",
    "        n_estimators=300,\n",
    "        num_leaves=15,\n",
    "        colsample_bytree=.8,\n",
    "        subsample=.8,\n",
    "        max_depth=7,\n",
    "        reg_alpha=.1,\n",
    "        reg_lambda=.1,\n",
    "        min_split_gain=.01\n",
    "    )\n",
    "\n",
    "LightGBM.fit(X_train, \n",
    "        Y_train,\n",
    "        eval_set= [(X_train, Y_train), (X_test, Y_test)], \n",
    "        eval_metric='auc', \n",
    "        verbose=0, \n",
    "        early_stopping_rounds=30\n",
    "       )\n",
    "\n",
    "accuracy_LightGBM = round(clf_lgbm.score(X_test, Y_test) * 100, 2)\n",
    "print ('The accuracy for the LightGBM model is',accuracy_LightGBM,\"%\")"
   ]
  }
 ],
 "metadata": {
  "kernelspec": {
   "display_name": "Python 3",
   "language": "python",
   "name": "python3"
  },
  "language_info": {
   "codemirror_mode": {
    "name": "ipython",
    "version": 3
   },
   "file_extension": ".py",
   "mimetype": "text/x-python",
   "name": "python",
   "nbconvert_exporter": "python",
   "pygments_lexer": "ipython3",
   "version": "3.6.4"
  }
 },
 "nbformat": 4,
 "nbformat_minor": 2
}
